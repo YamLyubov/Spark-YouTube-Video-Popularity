{
 "cells": [
  {
   "cell_type": "code",
   "execution_count": 1,
   "id": "creative-kuwait",
   "metadata": {},
   "outputs": [],
   "source": [
    "import os\n",
    "import socket\n",
    "from pyspark import SparkConf, SparkContext, SQLContext\n",
    "from pyspark.sql import types as T, functions as F, SparkSession\n",
    "from pyspark.sql.window import Window\n",
    "from pyspark import StorageLevel\n",
    "from jinja2 import Environment, FileSystemLoader\n",
    "import datetime\n",
    "import json\n",
    "from pyspark.sql.functions import when"
   ]
  },
  {
   "cell_type": "code",
   "execution_count": 2,
   "id": "combined-looking",
   "metadata": {},
   "outputs": [],
   "source": [
    "LOGIN = \"irubin-370046\"  # Your gateway.st login\n",
    "APP_NAME = \"ML\"  # Any name for your Spark-app"
   ]
  },
  {
   "cell_type": "code",
   "execution_count": 3,
   "id": "usual-allen",
   "metadata": {},
   "outputs": [],
   "source": [
    "NORMALIZED_APP_NAME = APP_NAME.replace('/', '_').replace(':', '_').replace(' ', '_').replace('\\\\', '_')\n",
    "\n",
    "APPS_TMP_DIR = os.path.join(os.getcwd(), \"tmp\")\n",
    "APPS_CONF_DIR = os.path.join(os.getcwd(), \"conf\")\n",
    "APPS_LOGS_DIR = os.path.join(os.getcwd(), \"logs\")\n",
    "LOG4J_PROP_FILE = os.path.join(APPS_CONF_DIR, \"pyspark-log4j-{}.properties\".format(NORMALIZED_APP_NAME))\n",
    "LOG_FILE = os.path.join(APPS_LOGS_DIR, 'pyspark-{}.log'.format(NORMALIZED_APP_NAME))\n",
    "EXTRA_JAVA_OPTIONS = (\n",
    "    \"-Dlog4j.configuration=file://{} \"\n",
    "    \"-Dspark.hadoop.dfs.replication=1 \"\n",
    "    \"-Dhttps.protocols=TLSv1.0,TLSv1.1,TLSv1.2,TLSv1.3\"\n",
    "    .format(LOG4J_PROP_FILE)\n",
    ")\n",
    "\n",
    "LOCAL_IP = socket.gethostbyname(socket.gethostname())"
   ]
  },
  {
   "cell_type": "code",
   "execution_count": 4,
   "id": "gorgeous-mainstream",
   "metadata": {},
   "outputs": [],
   "source": [
    "for directory in [APPS_CONF_DIR, APPS_LOGS_DIR, APPS_TMP_DIR]:\n",
    "    if not os.path.exists(directory):\n",
    "        os.makedirs(directory)\n",
    "\n",
    "env = Environment(loader=FileSystemLoader('/opt'))\n",
    "template = env.get_template(\"pyspark_log4j.properties.template\")\n",
    "template.stream(logfile=LOG_FILE).dump(LOG4J_PROP_FILE)"
   ]
  },
  {
   "cell_type": "code",
   "execution_count": 5,
   "id": "distinguished-india",
   "metadata": {},
   "outputs": [],
   "source": [
    "spark = (\n",
    "    SparkSession\n",
    "    .builder\n",
    "    .appName(APP_NAME)\n",
    "    \n",
    "    # Master URI/configuration\n",
    "    .master(\"k8s://https://10.32.7.103:6443\")\n",
    "    \n",
    "    .config(\"spark.driver.host\", LOCAL_IP)\n",
    "    \n",
    "    # Web-UI port for your Spark-app\n",
    "    .config(\"spark.ui.port\", \"4040\")\n",
    "    .config(\"spark.driver.bindAddress\", \"0.0.0.0\")\n",
    "    \n",
    "    # How many CPU cores allocate to driver process\n",
    "    .config(\"spark.driver.cores\", \"2\")\n",
    "    \n",
    "    # How many RAM allocate to driver process\n",
    "    .config(\"spark.driver.memory\", \"6g\")\n",
    "    \n",
    "    # How many executors to create\n",
    "    .config(\"spark.executor.instances\", \"3\")\n",
    "    \n",
    "    # How many CPU cores allocate to each executor\n",
    "    .config(\"spark.executor.cores\", '2')\n",
    "    \n",
    "    # How many RAM allocate to each executor\n",
    "    .config(\"spark.executor.memory\", \"6g\")\n",
    "    \n",
    "    # How many extra RAM allocate to each executor pod to handle with JVM overheads\n",
    "    # Total pod RAM = 'spark.executor.memory' + ('spark.executor.memory' * 'spark.kubernetes.memoryOverheadFactor')\n",
    "    .config(\"spark.kubernetes.memoryOverheadFactor\", \"0.2\")\n",
    "    \n",
    "    # How many RAM from the pool allocate to store the data\n",
    "    # Additional info: https://spark.apache.org/docs/latest/tuning.html#memory-management-overview\n",
    "    .config(\"spark.memory.fraction\", \"0.6\")\n",
    "    .config(\"spark.memory.storageFraction\", \"0.5\")\n",
    "    \n",
    "    .config(\"spark.network.timeout\", \"180s\")\n",
    "    .config(\"spark.sql.autoBroadcastJoinThreshold\", \"-1\")\n",
    "    .config(\"spark.driver.extraJavaOptions\", EXTRA_JAVA_OPTIONS)\n",
    "    \n",
    "    # Namespace to create executor pods. You are allowed to create pods only in your own namespace\n",
    "    .config(\"spark.kubernetes.namespace\", LOGIN)\n",
    "    \n",
    "    # Extra labels to your driver/executor pods in Kubernetes\n",
    "    .config(\"spark.kubernetes.driver.label.appname\", APP_NAME)\n",
    "    .config(\"spark.kubernetes.executor.label.appname\", APP_NAME)\n",
    "    \n",
    "    # Spark executor image\n",
    "    .config(\"spark.kubernetes.container.image\", f\"node03.st:5000/spark-executor:{LOGIN}\")\n",
    "\n",
    "    .config(\"spark.kubernetes.container.image.pullPolicy\", \"Always\")\n",
    "    \n",
    "    # If true - delete completed/failed pods. \n",
    "    # If your executors goes down you can set 'false' to check logs and troubleshoot your app.\n",
    "    .config(\"spark.kubernetes.executor.deleteOnTermination\", \"true\")\n",
    "    \n",
    "    .config(\"spark.local.dir\", \"/tmp/spark\")\n",
    "    .getOrCreate()\n",
    ")"
   ]
  },
  {
   "cell_type": "code",
   "execution_count": 10,
   "id": "behind-carrier",
   "metadata": {},
   "outputs": [],
   "source": [
    "spark.stop()"
   ]
  },
  {
   "cell_type": "code",
   "execution_count": 6,
   "id": "southwest-buffalo",
   "metadata": {},
   "outputs": [],
   "source": [
    "DATA_PATH = \"hdfs:///home/irubin-370046\""
   ]
  },
  {
   "cell_type": "code",
   "execution_count": 7,
   "id": "early-professor",
   "metadata": {},
   "outputs": [],
   "source": [
    "df = spark.read.json(f\"{DATA_PATH}/final_df.json\")"
   ]
  },
  {
   "cell_type": "code",
   "execution_count": 8,
   "id": "artistic-helmet",
   "metadata": {},
   "outputs": [],
   "source": [
    "df = df.withColumn(\"Year\", \\\n",
    "              when(df.Year == 2007, 1)\\\n",
    "                  .when(df.Year == 2008, 2)\\\n",
    "                  .when(df.Year == 2009, 3)\\\n",
    "                  .when(df.Year == 2010, 4)\\\n",
    "                 .when(df.Year == 2011, 5)\\\n",
    "                  .when(df.Year == 2012, 6)\\\n",
    "                  .when(df.Year == 2013, 7)\\\n",
    "                  .when(df.Year == 2014, 8)\\\n",
    "                  .when(df.Year == 2015, 9)\\\n",
    "                .when(df.Year == 2016, 10)\\\n",
    "                  .when(df.Year == 2017, 11)\\\n",
    "                  .when(df.Year == 2018, 12)\\\n",
    "                  .when(df.Year == 2019, 13)\\\n",
    "                  .when(df.Year == 2020, 14)\\\n",
    "                  .when(df.Year == 2021, 15)\\\n",
    "                  .when(df.Year == 2022, 16)\\\n",
    "                  .when(df.Year == 2023, 17)\\\n",
    "                   .when(df.Year == 2006, 0)\\\n",
    "                   .otherwise(df.Year)\n",
    "                  )"
   ]
  },
  {
   "cell_type": "code",
   "execution_count": 9,
   "id": "reserved-textbook",
   "metadata": {},
   "outputs": [],
   "source": [
    "from pyspark.sql.types import LongType\n",
    "df = df.withColumn(\"Year\", df[\"Year\"].cast(LongType()))"
   ]
  },
  {
   "cell_type": "code",
   "execution_count": 10,
   "id": "blessed-yorkshire",
   "metadata": {},
   "outputs": [],
   "source": [
    "# This features need one-hot encoding\n",
    "\n",
    "\n",
    "# This features need mapping from True/False values to 0/1 (just cast integer)\n",
    "need_map = ['caption', \n",
    "            'description_has_links', \n",
    "            'description_has_tags',\n",
    "            'emoji_in_title',\n",
    "            'has_description',\n",
    "            'has_pop_tags',\n",
    "            'has_tags',\n",
    "            'licensedContent',\n",
    "            'status',\n",
    "            'title_has_excl',\n",
    "            'title_has_tags',\n",
    "            'title_is_uppercase']\n",
    "\n",
    "# Definition only has two values (hd, sd) and can be encoded as 0/1\n",
    "need_map_too = ['definition']\n",
    "\n",
    "# Need MinMax scaling\n",
    "need_scaling = ['description_len', 'log_duration', 'mean_popularity', 'title_len', 'Month', 'hour','dayofweek', 'categoryId', 'Year']"
   ]
  },
  {
   "cell_type": "code",
   "execution_count": 11,
   "id": "charitable-selection",
   "metadata": {},
   "outputs": [],
   "source": [
    "for col in need_map:\n",
    "    df = (df.withColumn(col, df.licensedContent.cast('integer')))"
   ]
  },
  {
   "cell_type": "code",
   "execution_count": 12,
   "id": "incorporate-there",
   "metadata": {},
   "outputs": [],
   "source": [
    "from pyspark.ml.feature import MinMaxScaler\n",
    "from pyspark.ml.feature import VectorAssembler\n",
    "from pyspark.ml import Pipeline\n",
    "from pyspark.sql.functions import udf\n",
    "from pyspark.sql.types import DoubleType\n",
    "\n",
    "unlist = udf(lambda x: float(list(x)[0]), DoubleType())\n",
    "\n",
    "for i in need_scaling:\n",
    "    assembler = VectorAssembler(inputCols=[i], outputCol=i+\"_Vect\")\n",
    "\n",
    "    scaler = MinMaxScaler(inputCol=i+\"_Vect\", outputCol=i+\"_Scaled\")\n",
    "\n",
    "    pipeline = Pipeline(stages=[assembler, scaler])\n",
    "\n",
    "    df = pipeline.fit(df).transform(df).withColumn(i+\"_Scaled\", unlist(i+\"_Scaled\")).drop(i+\"_Vect\")"
   ]
  },
  {
   "cell_type": "code",
   "execution_count": 13,
   "id": "japanese-pavilion",
   "metadata": {},
   "outputs": [],
   "source": [
    "from pyspark.ml.feature import StringIndexer\n",
    "str_indexer = StringIndexer(inputCol=\"definition\", outputCol=\"definition_index\")\n",
    "\n",
    "str_indexer = str_indexer.fit(df)\n",
    "\n",
    "df = str_indexer.transform(df)"
   ]
  },
  {
   "cell_type": "code",
   "execution_count": null,
   "id": "historical-police",
   "metadata": {},
   "outputs": [],
   "source": [
    "from pyspark.ml.feature import OneHotEncoder\n",
    "encoder = OneHotEncoder(inputCols=need_ohe, \n",
    "                                 outputCols= [f'{col}_ohe' for col in need_ohe])\n",
    "encoder = encoder.fit(df)\n",
    "\n",
    "df = encoder.transform(df)"
   ]
  },
  {
   "cell_type": "code",
   "execution_count": 14,
   "id": "colonial-cooking",
   "metadata": {},
   "outputs": [
    {
     "name": "stdout",
     "output_type": "stream",
     "text": [
      "root\n",
      " |-- Month: long (nullable = true)\n",
      " |-- Year: long (nullable = true)\n",
      " |-- caption: integer (nullable = true)\n",
      " |-- categoryId: long (nullable = true)\n",
      " |-- dayofweek: long (nullable = true)\n",
      " |-- definition: string (nullable = true)\n",
      " |-- description_has_links: integer (nullable = true)\n",
      " |-- description_has_tags: integer (nullable = true)\n",
      " |-- description_len: double (nullable = true)\n",
      " |-- emoji_in_title: integer (nullable = true)\n",
      " |-- has_description: integer (nullable = true)\n",
      " |-- has_pop_tags: integer (nullable = true)\n",
      " |-- has_tags: integer (nullable = true)\n",
      " |-- hour: long (nullable = true)\n",
      " |-- licensedContent: integer (nullable = true)\n",
      " |-- log_duration: double (nullable = true)\n",
      " |-- mean_popularity: double (nullable = true)\n",
      " |-- popularity: double (nullable = true)\n",
      " |-- status: integer (nullable = true)\n",
      " |-- title_has_excl: integer (nullable = true)\n",
      " |-- title_has_tags: integer (nullable = true)\n",
      " |-- title_is_uppercase: integer (nullable = true)\n",
      " |-- title_len: long (nullable = true)\n",
      " |-- description_len_Scaled: double (nullable = true)\n",
      " |-- log_duration_Scaled: double (nullable = true)\n",
      " |-- mean_popularity_Scaled: double (nullable = true)\n",
      " |-- title_len_Scaled: double (nullable = true)\n",
      " |-- Month_Scaled: double (nullable = true)\n",
      " |-- hour_Scaled: double (nullable = true)\n",
      " |-- dayofweek_Scaled: double (nullable = true)\n",
      " |-- categoryId_Scaled: double (nullable = true)\n",
      " |-- Year_Scaled: double (nullable = true)\n",
      " |-- definition_index: double (nullable = false)\n",
      "\n"
     ]
    }
   ],
   "source": [
    "df.printSchema()"
   ]
  },
  {
   "cell_type": "code",
   "execution_count": 15,
   "id": "plastic-dallas",
   "metadata": {},
   "outputs": [
    {
     "name": "stdout",
     "output_type": "stream",
     "text": [
      "+--------------------+------------------+\n",
      "|            features|        popularity|\n",
      "+--------------------+------------------+\n",
      "|[1.0,1.0,1.0,5.74...|1.5665938388561083|\n",
      "|[1.0,1.0,1.0,5.37...|1.2711286086456879|\n",
      "|[1.0,1.0,1.0,6.96...|1.4217195964321903|\n",
      "+--------------------+------------------+\n",
      "only showing top 3 rows\n",
      "\n"
     ]
    }
   ],
   "source": [
    "from pyspark.ml.feature import VectorAssembler\n",
    "vectorAssembler = VectorAssembler(inputCols = [  'caption',\n",
    "                                                \n",
    "                                                 'description_has_links',\n",
    "                                                 'description_has_tags',\n",
    "                                                 'description_len',\n",
    "                                                 'emoji_in_title',\n",
    "                                                 'has_description',\n",
    "                                                 'has_pop_tags',\n",
    "                                                 'has_tags',\n",
    "                                                 'licensedContent',\n",
    "                                                 'status',\n",
    "                                                 'title_has_excl',\n",
    "                                                 'title_has_tags',\n",
    "                                                 'title_is_uppercase',\n",
    "                                                 'title_len',\n",
    "                                                 'description_len_Scaled',\n",
    "                                                 'log_duration_Scaled',\n",
    "                                                 'title_len_Scaled',\n",
    "                                                 'Month_Scaled',\n",
    "                                                 'hour_Scaled',\n",
    "                                                 'definition_index',\n",
    "                                                 'dayofweek_Scaled',\n",
    "                                                 'categoryId_Scaled',\n",
    "                                                 'Year_Scaled'], outputCol = 'features')\n",
    "v_df = vectorAssembler.transform(df)\n",
    "v_df = v_df.select(['features', 'popularity'])\n",
    "v_df.show(3)"
   ]
  },
  {
   "cell_type": "code",
   "execution_count": 16,
   "id": "expressed-debut",
   "metadata": {},
   "outputs": [
    {
     "name": "stdout",
     "output_type": "stream",
     "text": [
      "Training Dataset Count: 2406736\n",
      "Test Dataset Count: 1031821\n"
     ]
    }
   ],
   "source": [
    "train, test = v_df.randomSplit([0.7, 0.3], seed = 2018)\n",
    "print(\"Training Dataset Count: \" + str(train.count()))\n",
    "print(\"Test Dataset Count: \" + str(test.count()))"
   ]
  },
  {
   "cell_type": "markdown",
   "id": "cordless-gamma",
   "metadata": {},
   "source": [
    "## GBT"
   ]
  },
  {
   "cell_type": "code",
   "execution_count": 77,
   "id": "aquatic-welsh",
   "metadata": {},
   "outputs": [
    {
     "name": "stdout",
     "output_type": "stream",
     "text": [
      "+-------------------+-------------------+--------------------+\n",
      "|         prediction|         popularity|            features|\n",
      "+-------------------+-------------------+--------------------+\n",
      "|  0.581303413600299| 0.6981107644785808|(23,[3,13,14,15,1...|\n",
      "| 0.1259568076388692|0.09879839543056498|(23,[3,13,14,15,1...|\n",
      "|0.22370923938794843| 0.3265858313135614|(23,[3,13,14,15,1...|\n",
      "| 0.2036507744738305| 0.3174995691591199|(23,[3,13,14,15,1...|\n",
      "|0.15535186497119194|0.11866544380791419|(23,[3,13,14,15,1...|\n",
      "+-------------------+-------------------+--------------------+\n",
      "only showing top 5 rows\n",
      "\n"
     ]
    }
   ],
   "source": [
    "from pyspark.ml.regression import GBTRegressor\n",
    "gbt = GBTRegressor(featuresCol = 'features', labelCol = 'popularity', maxDepth=10, maxIter=100)\n",
    "\n",
    "gbt_model = gbt.fit(train)\n",
    "gbt_predictions = gbt_model.transform(test)\n",
    "gbt_predictions.select('prediction', 'popularity', 'features').show(5)\n"
   ]
  },
  {
   "cell_type": "code",
   "execution_count": 78,
   "id": "departmental-italian",
   "metadata": {},
   "outputs": [
    {
     "name": "stdout",
     "output_type": "stream",
     "text": [
      "Root Mean Squared Error (RMSE) on test data = 0.307124\n"
     ]
    }
   ],
   "source": [
    "from pyspark.ml.evaluation import RegressionEvaluator\n",
    "gbt_evaluator = RegressionEvaluator(\n",
    "    labelCol=\"popularity\", predictionCol=\"prediction\", metricName=\"rmse\")\n",
    "rmse = gbt_evaluator.evaluate(gbt_predictions)\n",
    "print(\"Root Mean Squared Error (RMSE) on test data = %g\" % rmse)"
   ]
  },
  {
   "cell_type": "code",
   "execution_count": 79,
   "id": "expensive-radical",
   "metadata": {},
   "outputs": [],
   "source": [
    "featureImp= gbt_model.featureImportances"
   ]
  },
  {
   "cell_type": "code",
   "execution_count": 88,
   "id": "differential-denmark",
   "metadata": {},
   "outputs": [
    {
     "data": {
      "text/plain": [
       "SparseVector(23, {0: 0.0799, 3: 0.1652, 13: 0.0736, 15: 0.1895, 17: 0.0295, 18: 0.0749, 19: 0.0305, 20: 0.0157, 21: 0.2231, 22: 0.1181})"
      ]
     },
     "execution_count": 88,
     "metadata": {},
     "output_type": "execute_result"
    }
   ],
   "source": [
    "featureImp"
   ]
  },
  {
   "cell_type": "code",
   "execution_count": 80,
   "id": "prescribed-extent",
   "metadata": {},
   "outputs": [
    {
     "name": "stdout",
     "output_type": "stream",
     "text": [
      "R Squared (R2) on test data = 0.565246\n"
     ]
    }
   ],
   "source": [
    "gbt_evaluator = RegressionEvaluator(predictionCol=\"prediction\", \\\n",
    "                 labelCol=\"popularity\",metricName=\"r2\")\n",
    "print(\"R Squared (R2) on test data = %g\" % gbt_evaluator.evaluate(gbt_predictions))"
   ]
  },
  {
   "cell_type": "code",
   "execution_count": 90,
   "id": "whole-terrace",
   "metadata": {},
   "outputs": [],
   "source": [
    "cols = [  'caption',\n",
    "                                                \n",
    "                                                 'description_has_links',\n",
    "                                                 'description_has_tags',\n",
    "                                                 'description_len',\n",
    "                                                 'emoji_in_title',\n",
    "                                                 'has_description',\n",
    "                                                 'has_pop_tags',\n",
    "                                                 'has_tags',\n",
    "                                                 'licensedContent',\n",
    "                                                 'status',\n",
    "                                                 'title_has_excl',\n",
    "                                                 'title_has_tags',\n",
    "                                                 'title_is_uppercase',\n",
    "                                                 'title_len',\n",
    "                                                 'description_len_Scaled',\n",
    "                                                 'log_duration',\n",
    "                                                 'title_len',\n",
    "                                                 'Month',\n",
    "                                                 'hour',\n",
    "                                                 'definition_index',\n",
    "                                                 'dayofweek',\n",
    "                                                 'categoryId',\n",
    "                                                 'Year']\n"
   ]
  },
  {
   "cell_type": "code",
   "execution_count": 91,
   "id": "demographic-framing",
   "metadata": {},
   "outputs": [],
   "source": [
    "x=featureImp.toArray()"
   ]
  },
  {
   "cell_type": "code",
   "execution_count": 92,
   "id": "hungry-crazy",
   "metadata": {},
   "outputs": [],
   "source": [
    "def add_element(dict, key, value):\n",
    "    if key not in dict:\n",
    "        dict[key] = []\n",
    "    dict[key].append(value)\n"
   ]
  },
  {
   "cell_type": "code",
   "execution_count": 93,
   "id": "offshore-broadway",
   "metadata": {},
   "outputs": [],
   "source": [
    "sloavr={}\n",
    "for i in range(0,len(cols)):\n",
    "    e=x[i].item()\n",
    "    sloavr[cols[i]] = e\n",
    "    \n"
   ]
  },
  {
   "cell_type": "code",
   "execution_count": 94,
   "id": "warming-monday",
   "metadata": {},
   "outputs": [],
   "source": [
    "z= {x:y for x,y in sloavr.items() if y!=0}"
   ]
  },
  {
   "cell_type": "code",
   "execution_count": 95,
   "id": "parental-affiliate",
   "metadata": {},
   "outputs": [],
   "source": [
    "z=dict(sorted(z.items(), key=lambda item: item[1]))"
   ]
  },
  {
   "cell_type": "code",
   "execution_count": 96,
   "id": "unavailable-serbia",
   "metadata": {},
   "outputs": [
    {
     "data": {
      "image/png": "[encoded data removed]",
      "text/plain": [
       "<Figure size 1440x504 with 1 Axes>"
      ]
     },
     "metadata": {
      "needs_background": "light"
     },
     "output_type": "display_data"
    }
   ],
   "source": [
    "import matplotlib as plt\n",
    "import matplotlib.pyplot as plt\n",
    "\n",
    "courses = list(z.keys())\n",
    "values = list(z.values())\n",
    "  \n",
    "fig = plt.figure(figsize = (20,7))\n",
    " \n",
    "# creating the bar plot\n",
    "plt.bar(courses, values, color ='maroon',\n",
    "        width = 0.4)\n",
    " \n",
    "plt.xlabel(\"features\")\n",
    "\n",
    "plt.title(\"Feature importance\")\n",
    "plt.show()"
   ]
  },
  {
   "cell_type": "code",
   "execution_count": null,
   "id": "developed-facility",
   "metadata": {},
   "outputs": [],
   "source": []
  },
  {
   "cell_type": "code",
   "execution_count": null,
   "id": "norwegian-hungary",
   "metadata": {},
   "outputs": [],
   "source": []
  },
  {
   "cell_type": "code",
   "execution_count": null,
   "id": "pointed-queensland",
   "metadata": {},
   "outputs": [],
   "source": []
  },
  {
   "cell_type": "code",
   "execution_count": null,
   "id": "whole-listing",
   "metadata": {},
   "outputs": [],
   "source": []
  },
  {
   "cell_type": "code",
   "execution_count": null,
   "id": "hungry-fountain",
   "metadata": {},
   "outputs": [],
   "source": [
    "####################################################################################"
   ]
  },
  {
   "cell_type": "code",
   "execution_count": null,
   "id": "armed-charlotte",
   "metadata": {},
   "outputs": [],
   "source": []
  },
  {
   "cell_type": "code",
   "execution_count": null,
   "id": "oriental-tamil",
   "metadata": {},
   "outputs": [],
   "source": []
  },
  {
   "cell_type": "code",
   "execution_count": null,
   "id": "distant-bangkok",
   "metadata": {},
   "outputs": [],
   "source": []
  },
  {
   "cell_type": "code",
   "execution_count": 47,
   "id": "designing-bishop",
   "metadata": {},
   "outputs": [],
   "source": [
    "import matplotlib as plt\n",
    "import matplotlib.pyplot as plt"
   ]
  },
  {
   "cell_type": "code",
   "execution_count": 34,
   "id": "annual-rogers",
   "metadata": {},
   "outputs": [],
   "source": [
    "def calculate_shapley_values(\n",
    "        df,\n",
    "        model,\n",
    "        row_of_interest,\n",
    "        feature_names,\n",
    "        features_col='features',\n",
    "        column_to_examine='anomalyScore'\n",
    "):\n",
    "    \"\"\"\n",
    "    # Based on the algorithm described here:\n",
    "    # https://christophm.github.io/interpretable-ml-book/shapley.html#estimating-the-shapley-value\n",
    "    # And on Baskerville's implementation for IForest/ AnomalyModel here:\n",
    "    # https://github.com/equalitie/baskerville/blob/develop/src/baskerville/util/model_interpretation/helpers.py#L235\n",
    "    \"\"\"\n",
    "    results = {}\n",
    "    features_perm_col = 'features_permutations'\n",
    "    spark = get_spark_session()\n",
    "    marginal_contribution_filter = F.avg('marginal_contribution').alias(\n",
    "        'shap_value'\n",
    "    )\n",
    "    # broadcast the row of interest and ordered feature names\n",
    "    ROW_OF_INTEREST_BROADCAST = spark.sparkContext.broadcast(\n",
    "        row_of_interest[features_col]\n",
    "    )\n",
    "    ORDERED_FEATURE_NAMES = spark.sparkContext.broadcast(feature_names)\n",
    "\n",
    "    # persist before continuing with calculations\n",
    "    if not df.is_cached:\n",
    "        df = df.persist()\n",
    "\n",
    "    # get permutations\n",
    "    features_df = get_features_permutations(\n",
    "        df,\n",
    "        feature_names,\n",
    "        output_col=features_perm_col\n",
    "    )\n",
    "\n",
    "    # set up the udf - x-j and x+j need to be calculated for every row\n",
    "    def calculate_x(\n",
    "            feature_j, z_features, curr_feature_perm\n",
    "    ):\n",
    "        \"\"\"\n",
    "        The instance  x+j is the instance of interest,\n",
    "        but all values in the order before feature j are\n",
    "        replaced by feature values from the sample z\n",
    "        The instance  x−j is the same as  x+j, but in addition\n",
    "        has feature j replaced by the value for feature j from the sample z\n",
    "        \"\"\"\n",
    "        x_interest = ROW_OF_INTEREST_BROADCAST.value\n",
    "        ordered_features = ORDERED_FEATURE_NAMES.value\n",
    "        x_minus_j = list(z_features).copy()\n",
    "        x_plus_j = list(z_features).copy()\n",
    "        f_i = curr_feature_perm.index(feature_j)\n",
    "        after_j = False\n",
    "        for f in curr_feature_perm[f_i:]:\n",
    "            # replace z feature values with x of interest feature values\n",
    "            # iterate features in current permutation until one before j\n",
    "            # x-j = [z1, z2, ... zj-1, xj, xj+1, ..., xN]\n",
    "            # we already have zs because we go row by row with the udf,\n",
    "            # so replace z_features with x of interest\n",
    "            f_index = ordered_features.index(f)\n",
    "            new_value = x_interest[f_index]\n",
    "            x_plus_j[f_index] = new_value\n",
    "            if after_j:\n",
    "                x_minus_j[f_index] = new_value\n",
    "            after_j = True\n",
    "\n",
    "        # minus must be first because of lag\n",
    "        return Vectors.dense(x_minus_j), Vectors.dense(x_plus_j)\n",
    "\n",
    "    udf_calculate_x = F.udf(calculate_x, T.ArrayType(VectorUDT()))\n",
    "\n",
    "    # persist before processing\n",
    "    features_df = features_df.persist()\n",
    "\n",
    "    for f in feature_names:\n",
    "        # x column contains x-j and x+j in this order.\n",
    "        # Because lag is calculated this way:\n",
    "        # F.col('anomalyScore') - (F.col('anomalyScore') one row before)\n",
    "        # x-j needs to be first in `x` column array so we should have:\n",
    "        # id1, [x-j row i,  x+j row i]\n",
    "        # ...\n",
    "        # that with explode becomes:\n",
    "        # id1, x-j row i\n",
    "        # id1, x+j row i\n",
    "        # ...\n",
    "        # to give us (x+j - x-j) when we calculate marginal contribution\n",
    "        # Note that with explode, x-j and x+j for the same row have the same id\n",
    "        # This gives us the opportunity to use lag with\n",
    "        # a window partitioned by id\n",
    "        x_df = features_df.withColumn('x', udf_calculate_x(\n",
    "            F.lit(f), features_col, features_perm_col\n",
    "        )).persist()\n",
    "        print(f'Calculating SHAP values for \"{f}\"...')\n",
    "        x_df.show(10, False)\n",
    "        x_df = x_df.selectExpr(\n",
    "            'id', f'explode(x) as {features_col}'\n",
    "        ).cache()\n",
    "        print('Exploded df:')\n",
    "        x_df.show(10, False)\n",
    "        x_df = model.transform(x_df)\n",
    "\n",
    "        # marginal contribution is calculated using a window and a lag of 1.\n",
    "        # the window is partitioned by id because x+j and x-j for the same row\n",
    "        # will have the same id\n",
    "        x_df = x_df.withColumn(\n",
    "            'marginal_contribution',\n",
    "            (\n",
    "                    F.col(column_to_examine) - F.lag(\n",
    "                        F.col(column_to_examine), 1\n",
    "                    ).over(Window.partitionBy('id').orderBy('id')\n",
    "            )\n",
    "            )\n",
    "        )\n",
    "        x_df.show(5, False)\n",
    "        # calculate the average\n",
    "        x_df = x_df.filter(\n",
    "            x_df.marginal_contribution.isNotNull()\n",
    "        )\n",
    "        tdf = x_df.select(\n",
    "            marginal_contribution_filter\n",
    "        )\n",
    "        tdf.show()\n",
    "        results[f] = x_df.select(\n",
    "            marginal_contribution_filter\n",
    "        ).first().shap_value\n",
    "        x_df.unpersist()\n",
    "        del x_df\n",
    "        print(f'Marginal Contribution for feature: {f} = {results[f]} ')\n",
    "\n",
    "    ordered_results = sorted(\n",
    "        results.items(),\n",
    "        key=operator.itemgetter(1),\n",
    "        reverse=True\n",
    "    )\n",
    "    return ordered_results\n",
    "\n",
    "\n",
    "def shapley_values_for_model(\n",
    "        model_path,\n",
    "        feature_names,\n",
    "        row_id,\n",
    "        data_path=None,\n",
    "        column_to_examine=None\n",
    "):\n",
    "    from baskerville.spark import get_spark_session\n",
    "    _ = get_spark_session()\n",
    "    metadata = get_model_metadata(model_path)\n",
    "    model = load_model(model_path, metadata)\n",
    "    features_col = metadata['paramMap'].get('featuresCol', 'features')\n",
    "    # get sample dataset\n",
    "    df = load_df_from_json(data_path)\n",
    "    if 'id' not in df.columns:\n",
    "        # not a good idea\n",
    "        warnings.warn('Missing column \"id\", using monotonically_increasing_id')\n",
    "        df = df.withColumn('id', F.monotonically_increasing_id())\n",
    "    df.show(10, False)\n",
    "\n",
    "    # predict on the data if the df does not contain the results\n",
    "    if column_to_examine not in df.columns:\n",
    "        pred_df = model.predict(df)\n",
    "        df = pred_df.select('id', features_col, column_to_examine)\n",
    "\n",
    "    # select the row to be examined\n",
    "    df = select_row(df, row_id)\n",
    "    row_of_interest = df.select('id', 'features').where(\n",
    "        F.col('is_selected') == True  # noqa\n",
    "    ).first()\n",
    "    print('Row: ', row_of_interest)\n",
    "\n",
    "    # remove x and drop column_to_examine column\n",
    "    df = df.select('*').where(\n",
    "        F.col('is_selected') == False  # noqa\n",
    "    ).drop(column_to_examine)\n",
    "\n",
    "    shap_values = calculate_shapley_values(\n",
    "        df,\n",
    "        model,\n",
    "        row_of_interest,\n",
    "        feature_names,\n",
    "        features_col=features_col,\n",
    "        column_to_examine=column_to_examine,\n",
    "    )\n",
    "    print('Feature ranking by Shapley values:')\n",
    "    print('-' * 20)\n",
    "    print(*[f'#{i}. {feat} = {value}' for i, (feat, value) in\n",
    "            enumerate(shap_values)])\n",
    "    return shap_values"
   ]
  },
  {
   "cell_type": "code",
   "execution_count": 40,
   "id": "loving-desperate",
   "metadata": {},
   "outputs": [
    {
     "ename": "NameError",
     "evalue": "name 'get_spark_session' is not defined",
     "output_type": "error",
     "traceback": [
      "\u001b[0;31m---------------------------------------------------------------------------\u001b[0m",
      "\u001b[0;31mNameError\u001b[0m                                 Traceback (most recent call last)",
      "\u001b[0;32m<ipython-input-40-e638f4dc7958>\u001b[0m in \u001b[0;36m<module>\u001b[0;34m\u001b[0m\n\u001b[0;32m----> 1\u001b[0;31m calculate_shapley_values(\n\u001b[0m\u001b[1;32m      2\u001b[0m         \u001b[0mv_df\u001b[0m\u001b[0;34m,\u001b[0m\u001b[0;34m\u001b[0m\u001b[0;34m\u001b[0m\u001b[0m\n\u001b[1;32m      3\u001b[0m         \u001b[0mdt_model\u001b[0m\u001b[0;34m,\u001b[0m\u001b[0;34m\u001b[0m\u001b[0;34m\u001b[0m\u001b[0m\n\u001b[1;32m      4\u001b[0m         \u001b[0;36m0\u001b[0m\u001b[0;34m,\u001b[0m\u001b[0;34m\u001b[0m\u001b[0;34m\u001b[0m\u001b[0m\n\u001b[1;32m      5\u001b[0m         \u001b[0mcols\u001b[0m\u001b[0;34m,\u001b[0m\u001b[0;34m\u001b[0m\u001b[0;34m\u001b[0m\u001b[0m\n",
      "\u001b[0;32m<ipython-input-34-d1ddd8de17fe>\u001b[0m in \u001b[0;36mcalculate_shapley_values\u001b[0;34m(df, model, row_of_interest, feature_names, features_col, column_to_examine)\u001b[0m\n\u001b[1;32m     15\u001b[0m     \u001b[0mresults\u001b[0m \u001b[0;34m=\u001b[0m \u001b[0;34m{\u001b[0m\u001b[0;34m}\u001b[0m\u001b[0;34m\u001b[0m\u001b[0;34m\u001b[0m\u001b[0m\n\u001b[1;32m     16\u001b[0m     \u001b[0mfeatures_perm_col\u001b[0m \u001b[0;34m=\u001b[0m \u001b[0;34m'features_permutations'\u001b[0m\u001b[0;34m\u001b[0m\u001b[0;34m\u001b[0m\u001b[0m\n\u001b[0;32m---> 17\u001b[0;31m     \u001b[0mspark\u001b[0m \u001b[0;34m=\u001b[0m \u001b[0mget_spark_session\u001b[0m\u001b[0;34m(\u001b[0m\u001b[0;34m)\u001b[0m\u001b[0;34m\u001b[0m\u001b[0;34m\u001b[0m\u001b[0m\n\u001b[0m\u001b[1;32m     18\u001b[0m     marginal_contribution_filter = F.avg('marginal_contribution').alias(\n\u001b[1;32m     19\u001b[0m         \u001b[0;34m'shap_value'\u001b[0m\u001b[0;34m\u001b[0m\u001b[0;34m\u001b[0m\u001b[0m\n",
      "\u001b[0;31mNameError\u001b[0m: name 'get_spark_session' is not defined"
     ]
    }
   ],
   "source": [
    "calculate_shapley_values(\n",
    "        v_df,\n",
    "        dt_model,\n",
    "        0,\n",
    "        cols,\n",
    "        features_col='features',\n",
    "        column_to_examine='popularity')"
   ]
  },
  {
   "cell_type": "code",
   "execution_count": 41,
   "id": "inappropriate-donna",
   "metadata": {},
   "outputs": [
    {
     "ename": "ModuleNotFoundError",
     "evalue": "No module named 'shap'",
     "output_type": "error",
     "traceback": [
      "\u001b[0;31m---------------------------------------------------------------------------\u001b[0m",
      "\u001b[0;31mModuleNotFoundError\u001b[0m                       Traceback (most recent call last)",
      "\u001b[0;32m<ipython-input-41-efbb001a1501>\u001b[0m in \u001b[0;36m<module>\u001b[0;34m\u001b[0m\n\u001b[0;32m----> 1\u001b[0;31m \u001b[0;32mimport\u001b[0m \u001b[0mshap\u001b[0m\u001b[0;34m\u001b[0m\u001b[0;34m\u001b[0m\u001b[0m\n\u001b[0m",
      "\u001b[0;31mModuleNotFoundError\u001b[0m: No module named 'shap'"
     ]
    }
   ],
   "source": [
    "import shap"
   ]
  },
  {
   "cell_type": "code",
   "execution_count": null,
   "id": "heard-complexity",
   "metadata": {},
   "outputs": [],
   "source": []
  }
 ],
 "metadata": {
  "kernelspec": {
   "display_name": "Python 3",
   "language": "python",
   "name": "python3"
  },
  "language_info": {
   "codemirror_mode": {
    "name": "ipython",
    "version": 3
   },
   "file_extension": ".py",
   "mimetype": "text/x-python",
   "name": "python",
   "nbconvert_exporter": "python",
   "pygments_lexer": "ipython3",
   "version": "3.8.8"
  }
 },
 "nbformat": 4,
 "nbformat_minor": 5
}
