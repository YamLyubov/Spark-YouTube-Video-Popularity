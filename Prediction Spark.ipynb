{
 "cells": [
  {
   "cell_type": "code",
   "execution_count": 2,
   "id": "split-nerve",
   "metadata": {},
   "outputs": [],
   "source": [
    "import os\n",
    "import socket\n",
    "from pyspark import SparkConf, SparkContext, SQLContext\n",
    "from pyspark.sql import types as T, functions as F, SparkSession\n",
    "from pyspark.sql.window import Window\n",
    "from pyspark import StorageLevel\n",
    "from jinja2 import Environment, FileSystemLoader\n",
    "import datetime\n",
    "import json\n",
    "from pyspark.sql.functions import when"
   ]
  },
  {
   "cell_type": "code",
   "execution_count": 152,
   "id": "gross-reply",
   "metadata": {},
   "outputs": [
    {
     "name": "stdout",
     "output_type": "stream",
     "text": [
      "WARNING: An illegal reflective access operation has occurred\n",
      "WARNING: Illegal reflective access by org.apache.hadoop.security.authentication.util.KerberosUtil (file:/opt/hadoop-2.7.2/share/hadoop/common/lib/hadoop-auth-2.7.2.jar) to method sun.security.krb5.Config.getInstance()\n",
      "WARNING: Please consider reporting this to the maintainers of org.apache.hadoop.security.authentication.util.KerberosUtil\n",
      "WARNING: Use --illegal-access=warn to enable warnings of further illegal reflective access operations\n",
      "WARNING: All illegal access operations will be denied in a future release\n",
      "cat: Permission denied: user=irubin-370046, access=EXECUTE, inode=\"/home/ljamschikova-362109/processed/part-00000-01077320-edf8-46d1-bf57-8a4d0f282a15-c000.json\":ljamschikova-362109:ljamschikova-362109:drwx------\n"
     ]
    }
   ],
   "source": [
    "!hdfs dfs -cat /home/ljamschikova-362109/processed/part-00000-01077320-edf8-46d1-bf57-8a4d0f282a15-c000.json | head -n 3"
   ]
  },
  {
   "cell_type": "code",
   "execution_count": 3,
   "id": "dependent-offering",
   "metadata": {},
   "outputs": [],
   "source": [
    "LOGIN = \"irubin-370046\"  # Your gateway.st login\n",
    "APP_NAME = \"ML\"  # Any name for your Spark-app"
   ]
  },
  {
   "cell_type": "code",
   "execution_count": 4,
   "id": "right-stocks",
   "metadata": {},
   "outputs": [],
   "source": [
    "NORMALIZED_APP_NAME = APP_NAME.replace('/', '_').replace(':', '_').replace(' ', '_').replace('\\\\', '_')\n",
    "\n",
    "APPS_TMP_DIR = os.path.join(os.getcwd(), \"tmp\")\n",
    "APPS_CONF_DIR = os.path.join(os.getcwd(), \"conf\")\n",
    "APPS_LOGS_DIR = os.path.join(os.getcwd(), \"logs\")\n",
    "LOG4J_PROP_FILE = os.path.join(APPS_CONF_DIR, \"pyspark-log4j-{}.properties\".format(NORMALIZED_APP_NAME))\n",
    "LOG_FILE = os.path.join(APPS_LOGS_DIR, 'pyspark-{}.log'.format(NORMALIZED_APP_NAME))\n",
    "EXTRA_JAVA_OPTIONS = (\n",
    "    \"-Dlog4j.configuration=file://{} \"\n",
    "    \"-Dspark.hadoop.dfs.replication=1 \"\n",
    "    \"-Dhttps.protocols=TLSv1.0,TLSv1.1,TLSv1.2,TLSv1.3\"\n",
    "    .format(LOG4J_PROP_FILE)\n",
    ")\n",
    "\n",
    "LOCAL_IP = socket.gethostbyname(socket.gethostname())"
   ]
  },
  {
   "cell_type": "code",
   "execution_count": 5,
   "id": "adopted-arbitration",
   "metadata": {},
   "outputs": [],
   "source": [
    "for directory in [APPS_CONF_DIR, APPS_LOGS_DIR, APPS_TMP_DIR]:\n",
    "    if not os.path.exists(directory):\n",
    "        os.makedirs(directory)\n",
    "\n",
    "env = Environment(loader=FileSystemLoader('/opt'))\n",
    "template = env.get_template(\"pyspark_log4j.properties.template\")\n",
    "template.stream(logfile=LOG_FILE).dump(LOG4J_PROP_FILE)"
   ]
  },
  {
   "cell_type": "code",
   "execution_count": 6,
   "id": "chemical-telephone",
   "metadata": {},
   "outputs": [],
   "source": [
    "spark = (\n",
    "    SparkSession\n",
    "    .builder\n",
    "    .appName(APP_NAME)\n",
    "    \n",
    "    # Master URI/configuration\n",
    "    .master(\"k8s://https://10.32.7.103:6443\")\n",
    "    \n",
    "    .config(\"spark.driver.host\", LOCAL_IP)\n",
    "    \n",
    "    # Web-UI port for your Spark-app\n",
    "    .config(\"spark.ui.port\", \"4040\")\n",
    "    .config(\"spark.driver.bindAddress\", \"0.0.0.0\")\n",
    "    \n",
    "    # How many CPU cores allocate to driver process\n",
    "    .config(\"spark.driver.cores\", \"2\")\n",
    "    \n",
    "    # How many RAM allocate to driver process\n",
    "    .config(\"spark.driver.memory\", \"6g\")\n",
    "    \n",
    "    # How many executors to create\n",
    "    .config(\"spark.executor.instances\", \"3\")\n",
    "    \n",
    "    # How many CPU cores allocate to each executor\n",
    "    .config(\"spark.executor.cores\", '2')\n",
    "    \n",
    "    # How many RAM allocate to each executor\n",
    "    .config(\"spark.executor.memory\", \"6g\")\n",
    "    \n",
    "    # How many extra RAM allocate to each executor pod to handle with JVM overheads\n",
    "    # Total pod RAM = 'spark.executor.memory' + ('spark.executor.memory' * 'spark.kubernetes.memoryOverheadFactor')\n",
    "    .config(\"spark.kubernetes.memoryOverheadFactor\", \"0.2\")\n",
    "    \n",
    "    # How many RAM from the pool allocate to store the data\n",
    "    # Additional info: https://spark.apache.org/docs/latest/tuning.html#memory-management-overview\n",
    "    .config(\"spark.memory.fraction\", \"0.6\")\n",
    "    .config(\"spark.memory.storageFraction\", \"0.5\")\n",
    "    \n",
    "    .config(\"spark.network.timeout\", \"180s\")\n",
    "    .config(\"spark.sql.autoBroadcastJoinThreshold\", \"-1\")\n",
    "    .config(\"spark.driver.extraJavaOptions\", EXTRA_JAVA_OPTIONS)\n",
    "    \n",
    "    # Namespace to create executor pods. You are allowed to create pods only in your own namespace\n",
    "    .config(\"spark.kubernetes.namespace\", LOGIN)\n",
    "    \n",
    "    # Extra labels to your driver/executor pods in Kubernetes\n",
    "    .config(\"spark.kubernetes.driver.label.appname\", APP_NAME)\n",
    "    .config(\"spark.kubernetes.executor.label.appname\", APP_NAME)\n",
    "    \n",
    "    # Spark executor image\n",
    "    .config(\"spark.kubernetes.container.image\", f\"node03.st:5000/spark-executor:{LOGIN}\")\n",
    "\n",
    "    .config(\"spark.kubernetes.container.image.pullPolicy\", \"Always\")\n",
    "    \n",
    "    # If true - delete completed/failed pods. \n",
    "    # If your executors goes down you can set 'false' to check logs and troubleshoot your app.\n",
    "    .config(\"spark.kubernetes.executor.deleteOnTermination\", \"true\")\n",
    "    \n",
    "    .config(\"spark.local.dir\", \"/tmp/spark\")\n",
    "    .getOrCreate()\n",
    ")"
   ]
  },
  {
   "cell_type": "code",
   "execution_count": 150,
   "id": "breathing-vintage",
   "metadata": {},
   "outputs": [],
   "source": [
    "spark.stop()\n"
   ]
  },
  {
   "cell_type": "code",
   "execution_count": 7,
   "id": "liable-press",
   "metadata": {},
   "outputs": [],
   "source": [
    "DATA_PATH = \"hdfs:///home/irubin-370046\""
   ]
  },
  {
   "cell_type": "code",
   "execution_count": null,
   "id": "chronic-waters",
   "metadata": {},
   "outputs": [],
   "source": []
  },
  {
   "cell_type": "code",
   "execution_count": 8,
   "id": "short-microphone",
   "metadata": {},
   "outputs": [],
   "source": [
    "df = spark.read.json(f\"{DATA_PATH}/final_df.json\")"
   ]
  },
  {
   "cell_type": "code",
   "execution_count": 9,
   "id": "accepting-pastor",
   "metadata": {},
   "outputs": [],
   "source": [
    "df = df.withColumn(\"Year\", \\\n",
    "              when(df.Year == 2007, 1)\\\n",
    "                  .when(df.Year == 2008, 2)\\\n",
    "                  .when(df.Year == 2009, 3)\\\n",
    "                  .when(df.Year == 2010, 4)\\\n",
    "                 .when(df.Year == 2011, 5)\\\n",
    "                  .when(df.Year == 2012, 6)\\\n",
    "                  .when(df.Year == 2013, 7)\\\n",
    "                  .when(df.Year == 2014, 8)\\\n",
    "                  .when(df.Year == 2015, 9)\\\n",
    "                .when(df.Year == 2016, 10)\\\n",
    "                  .when(df.Year == 2017, 11)\\\n",
    "                  .when(df.Year == 2018, 12)\\\n",
    "                  .when(df.Year == 2019, 13)\\\n",
    "                  .when(df.Year == 2020, 14)\\\n",
    "                  .when(df.Year == 2021, 15)\\\n",
    "                  .when(df.Year == 2022, 16)\\\n",
    "                  .when(df.Year == 2023, 17)\\\n",
    "                   .when(df.Year == 2006, 0)\\\n",
    "                   .otherwise(df.Year)\n",
    "                  )"
   ]
  },
  {
   "cell_type": "code",
   "execution_count": 10,
   "id": "recorded-snowboard",
   "metadata": {},
   "outputs": [],
   "source": [
    "from pyspark.sql.types import LongType\n",
    "df = df.withColumn(\"Year\", df[\"Year\"].cast(LongType()))"
   ]
  },
  {
   "cell_type": "code",
   "execution_count": 11,
   "id": "variable-defeat",
   "metadata": {
    "scrolled": true
   },
   "outputs": [
    {
     "name": "stdout",
     "output_type": "stream",
     "text": [
      "root\n",
      " |-- Month: long (nullable = true)\n",
      " |-- Year: long (nullable = true)\n",
      " |-- caption: boolean (nullable = true)\n",
      " |-- categoryId: long (nullable = true)\n",
      " |-- dayofweek: long (nullable = true)\n",
      " |-- definition: string (nullable = true)\n",
      " |-- description_has_links: boolean (nullable = true)\n",
      " |-- description_has_tags: boolean (nullable = true)\n",
      " |-- description_len: double (nullable = true)\n",
      " |-- emoji_in_title: boolean (nullable = true)\n",
      " |-- has_description: boolean (nullable = true)\n",
      " |-- has_pop_tags: boolean (nullable = true)\n",
      " |-- has_tags: boolean (nullable = true)\n",
      " |-- hour: long (nullable = true)\n",
      " |-- licensedContent: boolean (nullable = true)\n",
      " |-- log_duration: double (nullable = true)\n",
      " |-- mean_popularity: double (nullable = true)\n",
      " |-- popularity: double (nullable = true)\n",
      " |-- status: boolean (nullable = true)\n",
      " |-- title_has_excl: boolean (nullable = true)\n",
      " |-- title_has_tags: boolean (nullable = true)\n",
      " |-- title_is_uppercase: boolean (nullable = true)\n",
      " |-- title_len: long (nullable = true)\n",
      "\n"
     ]
    }
   ],
   "source": [
    "df.printSchema()"
   ]
  },
  {
   "cell_type": "code",
   "execution_count": 11,
   "id": "broadband-carry",
   "metadata": {},
   "outputs": [
    {
     "data": {
      "text/plain": [
       "['Month',\n",
       " 'Year',\n",
       " 'caption',\n",
       " 'categoryId',\n",
       " 'dayofweek',\n",
       " 'definition',\n",
       " 'description_has_links',\n",
       " 'description_has_tags',\n",
       " 'description_len',\n",
       " 'emoji_in_title',\n",
       " 'has_description',\n",
       " 'has_pop_tags',\n",
       " 'has_tags',\n",
       " 'hour',\n",
       " 'licensedContent',\n",
       " 'log_duration',\n",
       " 'mean_popularity',\n",
       " 'popularity',\n",
       " 'status',\n",
       " 'title_has_excl',\n",
       " 'title_has_tags',\n",
       " 'title_is_uppercase',\n",
       " 'title_len']"
      ]
     },
     "execution_count": 11,
     "metadata": {},
     "output_type": "execute_result"
    }
   ],
   "source": [
    "df.columns"
   ]
  },
  {
   "cell_type": "code",
   "execution_count": 12,
   "id": "satisfied-lodge",
   "metadata": {},
   "outputs": [],
   "source": [
    "# This features need one-hot encoding\n",
    "need_ohe = ['dayofweek', 'categoryId', 'Year']\n",
    "\n",
    "# This features need mapping from True/False values to 0/1 (just cast integer)\n",
    "need_map = ['caption', \n",
    "            'description_has_links', \n",
    "            'description_has_tags',\n",
    "            'emoji_in_title',\n",
    "            'has_description',\n",
    "            'has_pop_tags',\n",
    "            'has_tags',\n",
    "            'licensedContent',\n",
    "            'status',\n",
    "            'title_has_excl',\n",
    "            'title_has_tags',\n",
    "            'title_is_uppercase']\n",
    "\n",
    "# Definition only has two values (hd, sd) and can be encoded as 0/1\n",
    "need_map_too = ['definition']\n",
    "\n",
    "# Need MinMax scaling\n",
    "need_scaling = ['description_len', 'log_duration', 'mean_popularity', 'title_len', 'Month', 'hour']"
   ]
  },
  {
   "cell_type": "code",
   "execution_count": 13,
   "id": "floral-neighbor",
   "metadata": {},
   "outputs": [
    {
     "data": {
      "text/plain": [
       "3438557"
      ]
     },
     "execution_count": 13,
     "metadata": {},
     "output_type": "execute_result"
    }
   ],
   "source": [
    "df.count()"
   ]
  },
  {
   "cell_type": "code",
   "execution_count": 14,
   "id": "featured-style",
   "metadata": {},
   "outputs": [],
   "source": [
    "for col in need_map:\n",
    "    df = (df.withColumn(col, df.licensedContent.cast('integer')))"
   ]
  },
  {
   "cell_type": "code",
   "execution_count": 15,
   "id": "classical-champagne",
   "metadata": {},
   "outputs": [],
   "source": [
    "from pyspark.ml.feature import MinMaxScaler\n",
    "from pyspark.ml.feature import VectorAssembler\n",
    "from pyspark.ml import Pipeline\n",
    "from pyspark.sql.functions import udf\n",
    "from pyspark.sql.types import DoubleType\n",
    "\n",
    "unlist = udf(lambda x: float(list(x)[0]), DoubleType())\n",
    "\n",
    "for i in need_scaling:\n",
    "    assembler = VectorAssembler(inputCols=[i], outputCol=i+\"_Vect\")\n",
    "\n",
    "    scaler = MinMaxScaler(inputCol=i+\"_Vect\", outputCol=i+\"_Scaled\")\n",
    "\n",
    "    pipeline = Pipeline(stages=[assembler, scaler])\n",
    "\n",
    "    df = pipeline.fit(df).transform(df).withColumn(i+\"_Scaled\", unlist(i+\"_Scaled\")).drop(i+\"_Vect\")"
   ]
  },
  {
   "cell_type": "code",
   "execution_count": 16,
   "id": "collaborative-general",
   "metadata": {},
   "outputs": [],
   "source": [
    "from pyspark.ml.feature import StringIndexer\n",
    "str_indexer = StringIndexer(inputCol=\"definition\", outputCol=\"definition_index\")\n",
    "\n",
    "str_indexer = str_indexer.fit(df)\n",
    "\n",
    "df = str_indexer.transform(df)"
   ]
  },
  {
   "cell_type": "code",
   "execution_count": 17,
   "id": "stainless-roman",
   "metadata": {},
   "outputs": [],
   "source": [
    "from pyspark.ml.feature import OneHotEncoder\n",
    "encoder = OneHotEncoder(inputCols=need_ohe, \n",
    "                                 outputCols= [f'{col}_ohe' for col in need_ohe])\n",
    "encoder = encoder.fit(df)\n",
    "\n",
    "df = encoder.transform(df)"
   ]
  },
  {
   "cell_type": "code",
   "execution_count": 18,
   "id": "auburn-breakdown",
   "metadata": {},
   "outputs": [
    {
     "data": {
      "text/plain": [
       "['Month',\n",
       " 'Year',\n",
       " 'caption',\n",
       " 'categoryId',\n",
       " 'dayofweek',\n",
       " 'definition',\n",
       " 'description_has_links',\n",
       " 'description_has_tags',\n",
       " 'description_len',\n",
       " 'emoji_in_title',\n",
       " 'has_description',\n",
       " 'has_pop_tags',\n",
       " 'has_tags',\n",
       " 'hour',\n",
       " 'licensedContent',\n",
       " 'log_duration',\n",
       " 'mean_popularity',\n",
       " 'popularity',\n",
       " 'status',\n",
       " 'title_has_excl',\n",
       " 'title_has_tags',\n",
       " 'title_is_uppercase',\n",
       " 'title_len',\n",
       " 'description_len_Scaled',\n",
       " 'log_duration_Scaled',\n",
       " 'mean_popularity_Scaled',\n",
       " 'title_len_Scaled',\n",
       " 'Month_Scaled',\n",
       " 'hour_Scaled',\n",
       " 'definition_index',\n",
       " 'dayofweek_ohe',\n",
       " 'categoryId_ohe',\n",
       " 'Year_ohe']"
      ]
     },
     "execution_count": 18,
     "metadata": {},
     "output_type": "execute_result"
    }
   ],
   "source": [
    "df.columns"
   ]
  },
  {
   "cell_type": "markdown",
   "id": "fleet-mercury",
   "metadata": {},
   "source": [
    "https://towardsdatascience.com/building-a-linear-regression-with-pyspark-and-mllib-d065c3ba246a"
   ]
  },
  {
   "cell_type": "code",
   "execution_count": 19,
   "id": "jewish-retrieval",
   "metadata": {},
   "outputs": [
    {
     "name": "stdout",
     "output_type": "stream",
     "text": [
      "+--------------------+------------------+\n",
      "|            features|        popularity|\n",
      "+--------------------+------------------+\n",
      "|(74,[0,1,2,3,4,5,...|1.5665938388561083|\n",
      "|(74,[0,1,2,3,4,5,...|1.2711286086456879|\n",
      "|(74,[0,1,2,3,4,5,...|1.4217195964321903|\n",
      "+--------------------+------------------+\n",
      "only showing top 3 rows\n",
      "\n"
     ]
    }
   ],
   "source": [
    "from pyspark.ml.feature import VectorAssembler\n",
    "vectorAssembler = VectorAssembler(inputCols = [  'caption',\n",
    "                                                 'description_has_links',\n",
    "                                                 'description_has_tags',\n",
    "                                                 'description_len',\n",
    "                                                 'emoji_in_title',\n",
    "                                                 'has_description',\n",
    "                                                 'has_pop_tags',\n",
    "                                                 'has_tags',\n",
    "                                                 'licensedContent',\n",
    "                                                 'status',\n",
    "                                                 'title_has_excl',\n",
    "                                                 'title_has_tags',\n",
    "                                                 'title_is_uppercase',\n",
    "                                                 'title_len',\n",
    "                                                 'description_len_Scaled',\n",
    "                                                 'log_duration_Scaled',\n",
    "                                                 'mean_popularity_Scaled',\n",
    "                                                 'title_len_Scaled',\n",
    "                                                 'Month_Scaled',\n",
    "                                                 'hour_Scaled',\n",
    "                                                 'definition_index',\n",
    "                                                 'dayofweek_ohe',\n",
    "                                                 'categoryId_ohe',\n",
    "                                                 'Year_ohe'], outputCol = 'features')\n",
    "v_df = vectorAssembler.transform(df)\n",
    "v_df = v_df.select(['features', 'popularity'])\n",
    "v_df.show(3)"
   ]
  },
  {
   "cell_type": "code",
   "execution_count": 20,
   "id": "banner-infrastructure",
   "metadata": {},
   "outputs": [
    {
     "name": "stdout",
     "output_type": "stream",
     "text": [
      "Training Dataset Count: 2406736\n",
      "Test Dataset Count: 1031821\n"
     ]
    }
   ],
   "source": [
    "train, test = v_df.randomSplit([0.7, 0.3], seed = 2018)\n",
    "print(\"Training Dataset Count: \" + str(train.count()))\n",
    "print(\"Test Dataset Count: \" + str(test.count()))"
   ]
  },
  {
   "cell_type": "markdown",
   "id": "thousand-applicant",
   "metadata": {},
   "source": [
    "## Linear regression"
   ]
  },
  {
   "cell_type": "code",
   "execution_count": 20,
   "id": "concerned-invasion",
   "metadata": {},
   "outputs": [],
   "source": [
    "from pyspark.ml.tuning import CrossValidator, ParamGridBuilder, CrossValidatorModel\n",
    "from pyspark.ml.evaluation import RegressionEvaluator"
   ]
  },
  {
   "cell_type": "code",
   "execution_count": 21,
   "id": "packed-stranger",
   "metadata": {},
   "outputs": [],
   "source": [
    "from pyspark.ml.regression import LinearRegression\n",
    "lin_reg = LinearRegression(\n",
    "    featuresCol='features', \n",
    "    labelCol='popularity') "
   ]
  },
  {
   "cell_type": "code",
   "execution_count": 22,
   "id": "rubber-eclipse",
   "metadata": {},
   "outputs": [],
   "source": [
    "grid_search = ParamGridBuilder() \\\n",
    "    .addGrid(lin_reg.regParam, [0.0, 0.01, 0.1]) \\\n",
    "    .addGrid(lin_reg.elasticNetParam, [0.5, 1.0]) \\\n",
    "    .build()"
   ]
  },
  {
   "cell_type": "code",
   "execution_count": 23,
   "id": "confused-cotton",
   "metadata": {},
   "outputs": [],
   "source": [
    "evaluator = RegressionEvaluator(predictionCol='prediction',\n",
    "                                labelCol='popularity')"
   ]
  },
  {
   "cell_type": "code",
   "execution_count": 24,
   "id": "convenient-annex",
   "metadata": {},
   "outputs": [],
   "source": [
    "cv = CrossValidator(estimator=lin_reg,\n",
    "                    estimatorParamMaps=grid_search,\n",
    "                    evaluator=evaluator)\n",
    "cv_model = cv.fit(train)"
   ]
  },
  {
   "cell_type": "code",
   "execution_count": 25,
   "id": "associate-biology",
   "metadata": {},
   "outputs": [
    {
     "data": {
      "text/plain": [
       "0.1370620821191921"
      ]
     },
     "execution_count": 25,
     "metadata": {},
     "output_type": "execute_result"
    }
   ],
   "source": [
    "cv_model.bestModel.summary.meanAbsoluteError"
   ]
  },
  {
   "cell_type": "code",
   "execution_count": 26,
   "id": "industrial-czech",
   "metadata": {},
   "outputs": [
    {
     "data": {
      "text/plain": [
       "{Param(parent='LinearRegression_01652c9ac0f0', name='aggregationDepth', doc='suggested depth for treeAggregate (>= 2).'): 2,\n",
       " Param(parent='LinearRegression_01652c9ac0f0', name='elasticNetParam', doc='the ElasticNet mixing parameter, in range [0, 1]. For alpha = 0, the penalty is an L2 penalty. For alpha = 1, it is an L1 penalty.'): 1.0,\n",
       " Param(parent='LinearRegression_01652c9ac0f0', name='epsilon', doc='The shape parameter to control the amount of robustness. Must be > 1.0. Only valid when loss is huber'): 1.35,\n",
       " Param(parent='LinearRegression_01652c9ac0f0', name='featuresCol', doc='features column name.'): 'features',\n",
       " Param(parent='LinearRegression_01652c9ac0f0', name='fitIntercept', doc='whether to fit an intercept term.'): True,\n",
       " Param(parent='LinearRegression_01652c9ac0f0', name='labelCol', doc='label column name.'): 'popularity',\n",
       " Param(parent='LinearRegression_01652c9ac0f0', name='loss', doc='The loss function to be optimized. Supported options: squaredError, huber.'): 'squaredError',\n",
       " Param(parent='LinearRegression_01652c9ac0f0', name='maxBlockSizeInMB', doc='maximum memory in MB for stacking input data into blocks. Data is stacked within partitions. If more than remaining data size in a partition then it is adjusted to the data size. Default 0.0 represents choosing optimal value, depends on specific algorithm. Must be >= 0.'): 0.0,\n",
       " Param(parent='LinearRegression_01652c9ac0f0', name='maxIter', doc='max number of iterations (>= 0).'): 100,\n",
       " Param(parent='LinearRegression_01652c9ac0f0', name='predictionCol', doc='prediction column name.'): 'prediction',\n",
       " Param(parent='LinearRegression_01652c9ac0f0', name='regParam', doc='regularization parameter (>= 0).'): 0.0,\n",
       " Param(parent='LinearRegression_01652c9ac0f0', name='solver', doc='The solver algorithm for optimization. Supported options: auto, normal, l-bfgs.'): 'auto',\n",
       " Param(parent='LinearRegression_01652c9ac0f0', name='standardization', doc='whether to standardize the training features before fitting the model.'): True,\n",
       " Param(parent='LinearRegression_01652c9ac0f0', name='tol', doc='the convergence tolerance for iterative algorithms (>= 0).'): 1e-06}"
      ]
     },
     "execution_count": 26,
     "metadata": {},
     "output_type": "execute_result"
    }
   ],
   "source": [
    "cv_model.bestModel.extractParamMap()"
   ]
  },
  {
   "cell_type": "code",
   "execution_count": 27,
   "id": "physical-brighton",
   "metadata": {},
   "outputs": [
    {
     "name": "stdout",
     "output_type": "stream",
     "text": [
      "Coefficients: [0.00039051675972209636,0.00039051675972209636,0.00039051675972209636,0.002988712426235775,0.00039051675972209636,0.00039051675972209636,0.00039051675972209636,0.00039051675972209636,0.00039051675972209636,0.00039051675972209636,0.00039051675972209636,0.00039051675972209636,0.00039051675972209636,4.2204057216330175e-06,0.025461412562954772,0.1342673378723564,2.69131666882903,0.0005655343469054423,-0.006032037406587086,0.010939596869084354,-0.016924435096683895,0.0,-0.00045658633805622053,-0.009696723072582129,-0.012524761550644487,-0.011793799705893341,-0.010850319540416585,-0.009203955317511715,0.0,0.006927442787791366,0.01652170043299533,0.0,0.0,0.0,0.0,0.0,0.0,0.0,0.005724818459151594,0.0,0.0,0.0,0.0,0.02780177136449238,0.0,0.01125341755627125,0.0,0.012102513520203872,0.005008828024169174,0.0,0.015058730970933805,0.030257606940224068,0.012868033101913732,0.012432776796725564,0.01032196896183918,0.002962485518541356,0.008202725257327358,-0.12582966696171738,0.02255110688420467,0.022145410365115966,0.030794109840874433,0.02338171833008714,0.026713144006973347,0.01795392489119689,0.015359367874825792,0.012851335632048416,0.01097227509120832,0.010520694632139938,0.010332081266738445,0.009304214514296433,0.007633779991421683,0.005839498022829092,0.003954770791408021,0.008387906081730753]\n",
      "Intercept: -0.09164771123887869\n"
     ]
    }
   ],
   "source": [
    "from pyspark.ml.regression import LinearRegression\n",
    "lr = LinearRegression(featuresCol = 'features', labelCol='popularity', maxIter=100, regParam=0.0, elasticNetParam=1)\n",
    "lr_model = lr.fit(train)\n",
    "print(\"Coefficients: \" + str(lr_model.coefficients))\n",
    "print(\"Intercept: \" + str(lr_model.intercept))"
   ]
  },
  {
   "cell_type": "code",
   "execution_count": 28,
   "id": "immune-nickname",
   "metadata": {},
   "outputs": [
    {
     "name": "stdout",
     "output_type": "stream",
     "text": [
      "RMSE: 0.189107\n",
      "r2: 0.835329\n"
     ]
    }
   ],
   "source": [
    "trainingSummary = lr_model.summary\n",
    "print(\"RMSE: %f\" % trainingSummary.rootMeanSquaredError)\n",
    "print(\"r2: %f\" % trainingSummary.r2)"
   ]
  },
  {
   "cell_type": "code",
   "execution_count": 29,
   "id": "potential-compatibility",
   "metadata": {},
   "outputs": [
    {
     "name": "stdout",
     "output_type": "stream",
     "text": [
      "+------------------+------------------+--------------------+\n",
      "|        prediction|        popularity|            features|\n",
      "+------------------+------------------+--------------------+\n",
      "|1.3988938704153688| 1.497020565062332|(74,[0,1,2,3,4,5,...|\n",
      "| 1.830650116566798|1.8242777167343642|(74,[0,1,2,3,4,5,...|\n",
      "|0.5212362020509632|0.5707814054862881|(74,[0,1,2,3,4,5,...|\n",
      "| 0.935946094509648|0.9287076265649461|(74,[0,1,2,3,4,5,...|\n",
      "|0.5056723227505078|0.4561038589454073|(74,[0,1,2,3,4,5,...|\n",
      "+------------------+------------------+--------------------+\n",
      "only showing top 5 rows\n",
      "\n",
      "R Squared (R2) on test data = 0.834815\n"
     ]
    }
   ],
   "source": [
    "lr_predictions = lr_model.transform(test)\n",
    "lr_predictions.select(\"prediction\",\"popularity\",\"features\").show(5)\n",
    "from pyspark.ml.evaluation import RegressionEvaluator\n",
    "lr_evaluator = RegressionEvaluator(predictionCol=\"prediction\", \\\n",
    "                 labelCol=\"popularity\",metricName=\"r2\")\n",
    "print(\"R Squared (R2) on test data = %g\" % lr_evaluator.evaluate(lr_predictions))"
   ]
  },
  {
   "cell_type": "code",
   "execution_count": 30,
   "id": "unusual-dress",
   "metadata": {},
   "outputs": [
    {
     "name": "stdout",
     "output_type": "stream",
     "text": [
      "Root Mean Squared Error (RMSE) on test data = 0.188958\n"
     ]
    }
   ],
   "source": [
    "test_result = lr_model.evaluate(test)\n",
    "print(\"Root Mean Squared Error (RMSE) on test data = %g\" % test_result.rootMeanSquaredError)"
   ]
  },
  {
   "cell_type": "markdown",
   "id": "disturbed-deployment",
   "metadata": {},
   "source": [
    "## Decision Tree (нектуально)"
   ]
  },
  {
   "cell_type": "code",
   "execution_count": null,
   "id": "geographic-reducing",
   "metadata": {},
   "outputs": [],
   "source": []
  },
  {
   "cell_type": "code",
   "execution_count": 121,
   "id": "hispanic-moisture",
   "metadata": {},
   "outputs": [],
   "source": [
    "from pyspark.ml.regression import DecisionTreeRegressor\n",
    "\n",
    "dt = DecisionTreeRegressor(featuresCol ='features', labelCol = 'popularity')\n",
    "dt_model = dt.fit(train)\n"
   ]
  },
  {
   "cell_type": "code",
   "execution_count": 122,
   "id": "cutting-franklin",
   "metadata": {},
   "outputs": [
    {
     "name": "stdout",
     "output_type": "stream",
     "text": [
      "Root Mean Squared Error (RMSE) on test data = 0.191538\n"
     ]
    }
   ],
   "source": [
    "dt_predictions = dt_model.transform(test)\n",
    "dt_evaluator = RegressionEvaluator(\n",
    "    labelCol=\"popularity\", predictionCol=\"prediction\", metricName=\"rmse\")\n",
    "rmse = dt_evaluator.evaluate(dt_predictions)\n",
    "print(\"Root Mean Squared Error (RMSE) on test data = %g\" % rmse)"
   ]
  },
  {
   "cell_type": "code",
   "execution_count": 123,
   "id": "complicated-stake",
   "metadata": {},
   "outputs": [
    {
     "data": {
      "text/plain": [
       "[Row(features=SparseVector(75, {0: 1.0, 1: 29.0, 2: 1.0, 3: 1.0, 4: 4.2905, 5: 1.0, 6: 1.0, 7: 1.0, 8: 1.0, 9: 1.0, 10: 1.0, 11: 1.0, 12: 1.0, 13: 1.0, 14: 43.0, 15: 0.5036, 16: 0.5567, 17: 0.492, 18: 0.3134, 19: 0.2727, 20: 0.5652}), popularity=1.302050763547096)]"
      ]
     },
     "execution_count": 123,
     "metadata": {},
     "output_type": "execute_result"
    }
   ],
   "source": [
    "train.take(1)"
   ]
  },
  {
   "cell_type": "code",
   "execution_count": 124,
   "id": "ignored-hopkins",
   "metadata": {
    "scrolled": true
   },
   "outputs": [
    {
     "data": {
      "text/plain": [
       "SparseVector(75, {16: 0.0013, 17: 0.9984, 39: 0.0003, 53: 0.0001})"
      ]
     },
     "execution_count": 124,
     "metadata": {},
     "output_type": "execute_result"
    }
   ],
   "source": [
    "dt_model.featureImportances"
   ]
  },
  {
   "cell_type": "code",
   "execution_count": 125,
   "id": "cheap-ladder",
   "metadata": {},
   "outputs": [
    {
     "data": {
      "text/plain": [
       "[Row(Month=5, Year=15, caption=1, categoryId=22, dayofweek=7, definition='hd', description_has_links=1, description_has_tags=1, description_len=5.746203190540153, emoji_in_title=1, has_description=1, has_pop_tags=1, has_tags=1, hour=12, licensedContent=1, log_duration=6.037870919922137, mean_popularity=0.8351828330143496, popularity=1.5665938388561083, status=1, title_has_excl=1, title_has_tags=1, title_is_uppercase=1, title_len=68, description_len_Scaled=0.6745010247608874, log_duration_Scaled=0.5311949979140159, mean_popularity_Scaled=0.3000526524872972, title_len_Scaled=0.5, Month_Scaled=0.36363636363636365, hour_Scaled=0.5217391304347826, definition_index=0.0, dayofweek_ohe=SparseVector(7, {}), categoryId_ohe=SparseVector(29, {22: 1.0}), Year_ohe=SparseVector(17, {15: 1.0}))]"
      ]
     },
     "execution_count": 125,
     "metadata": {},
     "output_type": "execute_result"
    }
   ],
   "source": [
    "df.take(1)"
   ]
  },
  {
   "cell_type": "code",
   "execution_count": null,
   "id": "protecting-loading",
   "metadata": {},
   "outputs": [],
   "source": []
  },
  {
   "cell_type": "code",
   "execution_count": null,
   "id": "sustainable-companion",
   "metadata": {},
   "outputs": [],
   "source": []
  },
  {
   "cell_type": "code",
   "execution_count": null,
   "id": "polished-airfare",
   "metadata": {},
   "outputs": [],
   "source": []
  },
  {
   "cell_type": "markdown",
   "id": "adverse-success",
   "metadata": {},
   "source": [
    "## GB tree regressor"
   ]
  },
  {
   "cell_type": "code",
   "execution_count": 25,
   "id": "particular-headquarters",
   "metadata": {
    "scrolled": true
   },
   "outputs": [
    {
     "data": {
      "text/plain": [
       "[0.192733511301617,\n",
       " 0.18991497635568994,\n",
       " 0.18820743174875615,\n",
       " 0.18463744356289172]"
      ]
     },
     "execution_count": 25,
     "metadata": {},
     "output_type": "execute_result"
    }
   ],
   "source": [
    "from pyspark.ml.regression import GBTRegressor\n",
    "gbt = GBTRegressor(featuresCol = 'features', labelCol = 'popularity')\n",
    "\n",
    "paramGrid = ParamGridBuilder() \\\n",
    "    .addGrid(gbt.maxDepth, [3, 4, 5, 10])\\\n",
    "    .build()\n",
    "\n",
    "evaluator = RegressionEvaluator(predictionCol='prediction',\n",
    "                                labelCol='popularity')\n",
    "\n",
    "crossval = CrossValidator(estimator=gbt,\n",
    "                          estimatorParamMaps=paramGrid,\n",
    "                          evaluator=evaluator,\n",
    "                          numFolds=3)\n",
    "\n",
    "cvModel = crossval.fit(train)\n",
    "cvModel.avgMetrics\n",
    "\n",
    "\n",
    "\n",
    "\n",
    "# trainingSummary = gbt_model.summary\n",
    "# print(\"RMSE: %f\" % trainingSummary.rootMeanSquaredError)\n",
    "# print(\"r2: %f\" % trainingSummary.r2)\n"
   ]
  },
  {
   "cell_type": "code",
   "execution_count": 26,
   "id": "colonial-handy",
   "metadata": {},
   "outputs": [
    {
     "data": {
      "text/plain": [
       "{Param(parent='GBTRegressor_dfe5ae523c35', name='cacheNodeIds', doc='If false, the algorithm will pass trees to executors to match instances with nodes. If true, the algorithm will cache node IDs for each instance. Caching can speed up training of deeper trees. Users can set how often should the cache be checkpointed or disable it by setting checkpointInterval.'): False,\n",
       " Param(parent='GBTRegressor_dfe5ae523c35', name='checkpointInterval', doc='set checkpoint interval (>= 1) or disable checkpoint (-1). E.g. 10 means that the cache will get checkpointed every 10 iterations. Note: this setting will be ignored if the checkpoint directory is not set in the SparkContext.'): 10,\n",
       " Param(parent='GBTRegressor_dfe5ae523c35', name='featureSubsetStrategy', doc=\"The number of features to consider for splits at each tree node. Supported options: 'auto' (choose automatically for task: If numTrees == 1, set to 'all'. If numTrees > 1 (forest), set to 'sqrt' for classification and to 'onethird' for regression), 'all' (use all features), 'onethird' (use 1/3 of the features), 'sqrt' (use sqrt(number of features)), 'log2' (use log2(number of features)), 'n' (when n is in the range (0, 1.0], use n * number of features. When n is in the range (1, number of features), use n features). default = 'auto'\"): 'all',\n",
       " Param(parent='GBTRegressor_dfe5ae523c35', name='featuresCol', doc='features column name.'): 'features',\n",
       " Param(parent='GBTRegressor_dfe5ae523c35', name='impurity', doc='Criterion used for information gain calculation (case-insensitive). Supported options: variance'): 'variance',\n",
       " Param(parent='GBTRegressor_dfe5ae523c35', name='labelCol', doc='label column name.'): 'popularity',\n",
       " Param(parent='GBTRegressor_dfe5ae523c35', name='leafCol', doc='Leaf indices column name. Predicted leaf index of each instance in each tree by preorder.'): '',\n",
       " Param(parent='GBTRegressor_dfe5ae523c35', name='lossType', doc='Loss function which GBT tries to minimize (case-insensitive). Supported options: squared, absolute'): 'squared',\n",
       " Param(parent='GBTRegressor_dfe5ae523c35', name='maxBins', doc='Max number of bins for discretizing continuous features.  Must be >=2 and >= number of categories for any categorical feature.'): 32,\n",
       " Param(parent='GBTRegressor_dfe5ae523c35', name='maxDepth', doc='Maximum depth of the tree. (>= 0) E.g., depth 0 means 1 leaf node; depth 1 means 1 internal node + 2 leaf nodes.'): 10,\n",
       " Param(parent='GBTRegressor_dfe5ae523c35', name='maxIter', doc='max number of iterations (>= 0).'): 20,\n",
       " Param(parent='GBTRegressor_dfe5ae523c35', name='maxMemoryInMB', doc='Maximum memory in MB allocated to histogram aggregation. If too small, then 1 node will be split per iteration, and its aggregates may exceed this size.'): 256,\n",
       " Param(parent='GBTRegressor_dfe5ae523c35', name='minInfoGain', doc='Minimum information gain for a split to be considered at a tree node.'): 0.0,\n",
       " Param(parent='GBTRegressor_dfe5ae523c35', name='minInstancesPerNode', doc='Minimum number of instances each child must have after split. If a split causes the left or right child to have fewer than minInstancesPerNode, the split will be discarded as invalid. Should be >= 1.'): 1,\n",
       " Param(parent='GBTRegressor_dfe5ae523c35', name='minWeightFractionPerNode', doc='Minimum fraction of the weighted sample count that each child must have after split. If a split causes the fraction of the total weight in the left or right child to be less than minWeightFractionPerNode, the split will be discarded as invalid. Should be in interval [0.0, 0.5).'): 0.0,\n",
       " Param(parent='GBTRegressor_dfe5ae523c35', name='predictionCol', doc='prediction column name.'): 'prediction',\n",
       " Param(parent='GBTRegressor_dfe5ae523c35', name='seed', doc='random seed.'): 1533141303718485363,\n",
       " Param(parent='GBTRegressor_dfe5ae523c35', name='stepSize', doc='Step size (a.k.a. learning rate) in interval (0, 1] for shrinking the contribution of each estimator.'): 0.1,\n",
       " Param(parent='GBTRegressor_dfe5ae523c35', name='subsamplingRate', doc='Fraction of the training data used for learning each decision tree, in range (0, 1].'): 1.0,\n",
       " Param(parent='GBTRegressor_dfe5ae523c35', name='validationTol', doc='Threshold for stopping early when fit with validation is used. If the error rate on the validation input changes by less than the validationTol, then learning will stop early (before `maxIter`). This parameter is ignored when fit without validation is used.'): 0.01}"
      ]
     },
     "execution_count": 26,
     "metadata": {},
     "output_type": "execute_result"
    }
   ],
   "source": [
    "cvModel.bestModel.extractParamMap()"
   ]
  },
  {
   "cell_type": "code",
   "execution_count": 27,
   "id": "recent-ecology",
   "metadata": {},
   "outputs": [
    {
     "name": "stdout",
     "output_type": "stream",
     "text": [
      "+-------------------+------------------+--------------------+\n",
      "|         prediction|        popularity|            features|\n",
      "+-------------------+------------------+--------------------+\n",
      "| 1.4211967852955594| 1.497020565062332|(74,[0,1,2,3,4,5,...|\n",
      "| 1.7406523665392024|1.8242777167343642|(74,[0,1,2,3,4,5,...|\n",
      "| 0.5343367312488532|0.5707814054862881|(74,[0,1,2,3,4,5,...|\n",
      "| 0.8911101185913027|0.9287076265649461|(74,[0,1,2,3,4,5,...|\n",
      "|0.48825065325240263|0.4561038589454073|(74,[0,1,2,3,4,5,...|\n",
      "+-------------------+------------------+--------------------+\n",
      "only showing top 5 rows\n",
      "\n"
     ]
    }
   ],
   "source": [
    "from pyspark.ml.regression import GBTRegressor\n",
    "gbt = GBTRegressor(featuresCol = 'features', labelCol = 'popularity', maxDepth=10, maxIter=100)\n",
    "\n",
    "gbt_model = gbt.fit(train)\n",
    "gbt_predictions = gbt_model.transform(test)\n",
    "gbt_predictions.select('prediction', 'popularity', 'features').show(5)\n"
   ]
  },
  {
   "cell_type": "code",
   "execution_count": 28,
   "id": "distributed-album",
   "metadata": {},
   "outputs": [
    {
     "name": "stdout",
     "output_type": "stream",
     "text": [
      "Root Mean Squared Error (RMSE) on test data = 0.179347\n"
     ]
    }
   ],
   "source": [
    "gbt_evaluator = RegressionEvaluator(\n",
    "    labelCol=\"popularity\", predictionCol=\"prediction\", metricName=\"rmse\")\n",
    "rmse = gbt_evaluator.evaluate(gbt_predictions)\n",
    "print(\"Root Mean Squared Error (RMSE) on test data = %g\" % rmse)"
   ]
  },
  {
   "cell_type": "code",
   "execution_count": 1,
   "id": "proof-charm",
   "metadata": {
    "scrolled": true
   },
   "outputs": [
    {
     "ename": "NameError",
     "evalue": "name 'gbt_model' is not defined",
     "output_type": "error",
     "traceback": [
      "\u001b[0;31m---------------------------------------------------------------------------\u001b[0m",
      "\u001b[0;31mNameError\u001b[0m                                 Traceback (most recent call last)",
      "\u001b[0;32m<ipython-input-1-19d04518976f>\u001b[0m in \u001b[0;36m<module>\u001b[0;34m\u001b[0m\n\u001b[0;32m----> 1\u001b[0;31m \u001b[0mgbt_model\u001b[0m\u001b[0;34m.\u001b[0m\u001b[0mfeatureImportances\u001b[0m\u001b[0;34m\u001b[0m\u001b[0;34m\u001b[0m\u001b[0m\n\u001b[0m",
      "\u001b[0;31mNameError\u001b[0m: name 'gbt_model' is not defined"
     ]
    }
   ],
   "source": [
    "gbt_model.featureImportances"
   ]
  },
  {
   "cell_type": "code",
   "execution_count": 30,
   "id": "confident-aurora",
   "metadata": {},
   "outputs": [
    {
     "name": "stdout",
     "output_type": "stream",
     "text": [
      "R Squared (R2) on test data = 0.851191\n"
     ]
    }
   ],
   "source": [
    "gbt_evaluator = RegressionEvaluator(predictionCol=\"prediction\", \\\n",
    "                 labelCol=\"popularity\",metricName=\"r2\")\n",
    "print(\"R Squared (R2) on test data = %g\" % gbt_evaluator.evaluate(gbt_predictions))"
   ]
  },
  {
   "cell_type": "code",
   "execution_count": null,
   "id": "tropical-howard",
   "metadata": {},
   "outputs": [],
   "source": [
    "################################################"
   ]
  },
  {
   "cell_type": "code",
   "execution_count": 12,
   "id": "former-edward",
   "metadata": {},
   "outputs": [],
   "source": [
    "# This features need one-hot encoding\n",
    "\n",
    "\n",
    "# This features need mapping from True/False values to 0/1 (just cast integer)\n",
    "need_map = ['caption', \n",
    "            'description_has_links', \n",
    "            'description_has_tags',\n",
    "            'emoji_in_title',\n",
    "            'has_description',\n",
    "            'has_pop_tags',\n",
    "            'has_tags',\n",
    "            'licensedContent',\n",
    "            'status',\n",
    "            'title_has_excl',\n",
    "            'title_has_tags',\n",
    "            'title_is_uppercase']\n",
    "\n",
    "# Definition only has two values (hd, sd) and can be encoded as 0/1\n",
    "need_map_too = ['definition']\n",
    "\n",
    "# Need MinMax scaling\n",
    "need_scaling = ['description_len', 'log_duration', 'mean_popularity', 'title_len', 'Month', 'hour','dayofweek', 'categoryId', 'Year']"
   ]
  },
  {
   "cell_type": "code",
   "execution_count": 13,
   "id": "engaging-concept",
   "metadata": {},
   "outputs": [],
   "source": [
    "for col in need_map:\n",
    "    df = (df.withColumn(col, df.licensedContent.cast('integer')))"
   ]
  },
  {
   "cell_type": "code",
   "execution_count": 14,
   "id": "geographic-event",
   "metadata": {},
   "outputs": [],
   "source": [
    "from pyspark.ml.feature import MinMaxScaler\n",
    "from pyspark.ml.feature import VectorAssembler\n",
    "from pyspark.ml import Pipeline\n",
    "from pyspark.sql.functions import udf\n",
    "from pyspark.sql.types import DoubleType\n",
    "\n",
    "unlist = udf(lambda x: float(list(x)[0]), DoubleType())\n",
    "\n",
    "for i in need_scaling:\n",
    "    assembler = VectorAssembler(inputCols=[i], outputCol=i+\"_Vect\")\n",
    "\n",
    "    scaler = MinMaxScaler(inputCol=i+\"_Vect\", outputCol=i+\"_Scaled\")\n",
    "\n",
    "    pipeline = Pipeline(stages=[assembler, scaler])\n",
    "\n",
    "    df = pipeline.fit(df).transform(df).withColumn(i+\"_Scaled\", unlist(i+\"_Scaled\")).drop(i+\"_Vect\")"
   ]
  },
  {
   "cell_type": "code",
   "execution_count": 15,
   "id": "white-night",
   "metadata": {},
   "outputs": [],
   "source": [
    "from pyspark.ml.feature import StringIndexer\n",
    "str_indexer = StringIndexer(inputCol=\"definition\", outputCol=\"definition_index\")\n",
    "\n",
    "str_indexer = str_indexer.fit(df)\n",
    "\n",
    "df = str_indexer.transform(df)"
   ]
  },
  {
   "cell_type": "code",
   "execution_count": 16,
   "id": "matched-transcript",
   "metadata": {},
   "outputs": [
    {
     "name": "stdout",
     "output_type": "stream",
     "text": [
      "+--------------------+------------------+\n",
      "|            features|        popularity|\n",
      "+--------------------+------------------+\n",
      "|[1.0,1.0,1.0,5.74...|1.5665938388561083|\n",
      "|[1.0,1.0,1.0,5.37...|1.2711286086456879|\n",
      "|[1.0,1.0,1.0,6.96...|1.4217195964321903|\n",
      "+--------------------+------------------+\n",
      "only showing top 3 rows\n",
      "\n"
     ]
    }
   ],
   "source": [
    "from pyspark.ml.feature import VectorAssembler\n",
    "vectorAssembler = VectorAssembler(inputCols = [  'caption',\n",
    "                                                 'description_has_links',\n",
    "                                                 'description_has_tags',\n",
    "                                                 'description_len',\n",
    "                                                 'emoji_in_title',\n",
    "                                                 'has_description',\n",
    "                                                 'has_pop_tags',\n",
    "                                                 'has_tags',\n",
    "                                                 'licensedContent',\n",
    "                                                 'status',\n",
    "                                                 'title_has_excl',\n",
    "                                                 'title_has_tags',\n",
    "                                                 'title_is_uppercase',\n",
    "                                                 'title_len',\n",
    "                                                 'description_len_Scaled',\n",
    "                                                 'log_duration_Scaled',\n",
    "                                                 'mean_popularity_Scaled',\n",
    "                                                 'title_len_Scaled',\n",
    "                                                 'Month_Scaled',\n",
    "                                                 'hour_Scaled',\n",
    "                                                 'definition_index',\n",
    "                                                 'dayofweek_Scaled',\n",
    "                                                 'categoryId_Scaled',\n",
    "                                                 'Year_Scaled'], outputCol = 'features')\n",
    "v_df = vectorAssembler.transform(df)\n",
    "v_df = v_df.select(['features', 'popularity'])\n",
    "v_df.show(3)"
   ]
  },
  {
   "cell_type": "code",
   "execution_count": 17,
   "id": "developmental-recycling",
   "metadata": {},
   "outputs": [
    {
     "name": "stdout",
     "output_type": "stream",
     "text": [
      "Training Dataset Count: 2406736\n",
      "Test Dataset Count: 1031821\n"
     ]
    }
   ],
   "source": [
    "train, test = v_df.randomSplit([0.7, 0.3], seed = 2018)\n",
    "print(\"Training Dataset Count: \" + str(train.count()))\n",
    "print(\"Test Dataset Count: \" + str(test.count()))"
   ]
  },
  {
   "cell_type": "code",
   "execution_count": 18,
   "id": "popular-addiction",
   "metadata": {},
   "outputs": [
    {
     "name": "stdout",
     "output_type": "stream",
     "text": [
      "+-------------------+-------------------+--------------------+\n",
      "|         prediction|         popularity|            features|\n",
      "+-------------------+-------------------+--------------------+\n",
      "|  0.564711071906679| 0.6981107644785808|(24,[3,13,14,15,1...|\n",
      "| 0.1156631106093496|0.09879839543056498|(24,[3,13,14,15,1...|\n",
      "|0.21929804048176724| 0.3265858313135614|(24,[3,13,14,15,1...|\n",
      "|0.22283150385607967| 0.3174995691591199|(24,[3,13,14,15,1...|\n",
      "|0.14172290930341314|0.11866544380791419|(24,[3,13,14,15,1...|\n",
      "+-------------------+-------------------+--------------------+\n",
      "only showing top 5 rows\n",
      "\n"
     ]
    }
   ],
   "source": [
    "from pyspark.ml.regression import GBTRegressor\n",
    "gbt = GBTRegressor(featuresCol = 'features', labelCol = 'popularity', maxDepth=10, maxIter=100)\n",
    "\n",
    "gbt_model = gbt.fit(train)\n",
    "gbt_predictions = gbt_model.transform(test)\n",
    "gbt_predictions.select('prediction', 'popularity', 'features').show(5)"
   ]
  },
  {
   "cell_type": "code",
   "execution_count": 21,
   "id": "alpine-enough",
   "metadata": {},
   "outputs": [
    {
     "name": "stdout",
     "output_type": "stream",
     "text": [
      "Root Mean Squared Error (RMSE) on test data = 0.178937\n"
     ]
    }
   ],
   "source": [
    "gbt_evaluator = RegressionEvaluator(\n",
    "    labelCol=\"popularity\", predictionCol=\"prediction\", metricName=\"rmse\")\n",
    "rmse = gbt_evaluator.evaluate(gbt_predictions)\n",
    "print(\"Root Mean Squared Error (RMSE) on test data = %g\" % rmse)"
   ]
  },
  {
   "cell_type": "code",
   "execution_count": 22,
   "id": "global-reservation",
   "metadata": {},
   "outputs": [
    {
     "name": "stdout",
     "output_type": "stream",
     "text": [
      "R Squared (R2) on test data = 0.852384\n"
     ]
    }
   ],
   "source": [
    "gbt_evaluator = RegressionEvaluator(predictionCol=\"prediction\", \\\n",
    "                 labelCol=\"popularity\",metricName=\"r2\")\n",
    "print(\"R Squared (R2) on test data = %g\" % gbt_evaluator.evaluate(gbt_predictions))"
   ]
  },
  {
   "cell_type": "code",
   "execution_count": 31,
   "id": "opposite-aberdeen",
   "metadata": {},
   "outputs": [],
   "source": [
    "cols = [   'caption',\n",
    "                                                 'description_has_links',\n",
    "                                                 'description_has_tags',\n",
    "                                                 'description_len',\n",
    "                                                 'emoji_in_title',\n",
    "                                                 'has_description',\n",
    "                                                 'has_pop_tags',\n",
    "                                                 'has_tags',\n",
    "                                                 'licensedContent',\n",
    "                                                 'status',\n",
    "                                                 'title_has_excl',\n",
    "                                                 'title_has_tags',\n",
    "                                                 'title_is_uppercase',\n",
    "                                                 'title_len',\n",
    "                                                 'description_len',\n",
    "                                                 'log_duration',\n",
    "                                                 'mean_popularity',\n",
    "                                                 'title_len',\n",
    "                                                 'Month',\n",
    "                                                 'hour',\n",
    "                                                 'definition_index',\n",
    "                                                 'dayofweek',\n",
    "                                                 'categoryId',\n",
    "                                                 'Year']\n"
   ]
  },
  {
   "cell_type": "code",
   "execution_count": 33,
   "id": "civic-worry",
   "metadata": {},
   "outputs": [],
   "source": [
    "featureImp= gbt_model.featureImportances"
   ]
  },
  {
   "cell_type": "code",
   "execution_count": 34,
   "id": "conceptual-concern",
   "metadata": {},
   "outputs": [],
   "source": [
    "x=featureImp.toArray()"
   ]
  },
  {
   "cell_type": "code",
   "execution_count": 35,
   "id": "loving-paraguay",
   "metadata": {},
   "outputs": [],
   "source": [
    "def add_element(dict, key, value):\n",
    "    if key not in dict:\n",
    "        dict[key] = []\n",
    "    dict[key].append(value)"
   ]
  },
  {
   "cell_type": "code",
   "execution_count": 36,
   "id": "compatible-yacht",
   "metadata": {},
   "outputs": [],
   "source": [
    "sloavr={}\n",
    "for i in range(0,len(cols)):\n",
    "    e=x[i].item()\n",
    "    sloavr[cols[i]] = e\n",
    "    "
   ]
  },
  {
   "cell_type": "code",
   "execution_count": 37,
   "id": "pressing-inside",
   "metadata": {},
   "outputs": [],
   "source": [
    "z= {x:y for x,y in sloavr.items() if y!=0}"
   ]
  },
  {
   "cell_type": "code",
   "execution_count": 38,
   "id": "worldwide-chemical",
   "metadata": {},
   "outputs": [],
   "source": [
    "z=dict(sorted(z.items(), key=lambda item: item[1]))"
   ]
  },
  {
   "cell_type": "code",
   "execution_count": 39,
   "id": "southwest-devon",
   "metadata": {},
   "outputs": [
    {
     "data": {
      "image/png": "[encoded data removed]",
      "text/plain": [
       "<Figure size 1440x504 with 1 Axes>"
      ]
     },
     "metadata": {
      "needs_background": "light"
     },
     "output_type": "display_data"
    }
   ],
   "source": [
    "import matplotlib as plt\n",
    "import matplotlib.pyplot as plt\n",
    "\n",
    "courses = list(z.keys())\n",
    "values = list(z.values())\n",
    "  \n",
    "fig = plt.figure(figsize = (20,7))\n",
    " \n",
    "# creating the bar plot\n",
    "plt.bar(courses, values, color ='maroon',\n",
    "        width = 0.4)\n",
    " \n",
    "plt.xlabel(\"features\")\n",
    "\n",
    "plt.title(\"Feature importance\")\n",
    "plt.show()"
   ]
  },
  {
   "cell_type": "code",
   "execution_count": null,
   "id": "figured-guess",
   "metadata": {},
   "outputs": [],
   "source": []
  }
 ],
 "metadata": {
  "kernelspec": {
   "display_name": "Python 3",
   "language": "python",
   "name": "python3"
  },
  "language_info": {
   "codemirror_mode": {
    "name": "ipython",
    "version": 3
   },
   "file_extension": ".py",
   "mimetype": "text/x-python",
   "name": "python",
   "nbconvert_exporter": "python",
   "pygments_lexer": "ipython3",
   "version": "3.8.8"
  }
 },
 "nbformat": 4,
 "nbformat_minor": 5
}
